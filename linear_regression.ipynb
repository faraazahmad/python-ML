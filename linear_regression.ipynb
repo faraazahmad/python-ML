{
  "nbformat": 4,
  "nbformat_minor": 0,
  "metadata": {
    "colab": {
      "name": "linear_regression.ipynb",
      "version": "0.3.2",
      "provenance": [],
      "include_colab_link": true
    },
    "kernelspec": {
      "name": "python3",
      "display_name": "Python 3"
    },
    "accelerator": "GPU"
  },
  "cells": [
    {
      "cell_type": "markdown",
      "metadata": {
        "id": "view-in-github",
        "colab_type": "text"
      },
      "source": [
        "[View in Colaboratory](https://colab.research.google.com/github/faraazahmad/python-ML/blob/master/linear_regression.ipynb)"
      ]
    },
    {
      "metadata": {
        "id": "L4TUJuQGfq_c",
        "colab_type": "text"
      },
      "cell_type": "markdown",
      "source": [
        ""
      ]
    },
    {
      "metadata": {
        "id": "LMnBRylqn054",
        "colab_type": "code",
        "colab": {
          "base_uri": "https://localhost:8080/",
          "height": 225
        },
        "outputId": "bb447752-f519-4d31-a05f-67ddcb4b6f38"
      },
      "cell_type": "code",
      "source": [
        "! wget https://vincentarelbundock.github.io/Rdatasets/csv/Ecdat/Housing.csv\n",
        "! ls"
      ],
      "execution_count": 7,
      "outputs": [
        {
          "output_type": "stream",
          "text": [
            "--2018-07-04 09:29:06--  https://vincentarelbundock.github.io/Rdatasets/csv/Ecdat/Housing.csv\r\n",
            "Resolving vincentarelbundock.github.io (vincentarelbundock.github.io)... 185.199.108.153, 185.199.109.153, 185.199.110.153, ...\r\n",
            "Connecting to vincentarelbundock.github.io (vincentarelbundock.github.io)|185.199.108.153|:443... connected.\n",
            "HTTP request sent, awaiting response... 200 OK\n",
            "Length: 31209 (30K) [text/csv]\n",
            "Saving to: ‘Housing.csv.1’\n",
            "\n",
            "Housing.csv.1       100%[===================>]  30.48K  --.-KB/s    in 0.02s   \n",
            "\n",
            "2018-07-04 09:29:06 (1.93 MB/s) - ‘Housing.csv.1’ saved [31209/31209]\n",
            "\n",
            "datalab  Housing.csv  Housing.csv.1\n"
          ],
          "name": "stdout"
        }
      ]
    },
    {
      "metadata": {
        "id": "zSJQnSz5fwXv",
        "colab_type": "code",
        "colab": {
          "base_uri": "https://localhost:8080/",
          "height": 428
        },
        "outputId": "55e40e94-9074-44fc-ac89-a2a798460831"
      },
      "cell_type": "code",
      "source": [
        "import matplotlib\n",
        "# mat.use('GTKAgg')\n",
        "\n",
        "import matplotlib.pyplot as plt\n",
        "import numpy as np\n",
        "from sklearn import datasets, linear_model\n",
        "import pandas as pd\n",
        "\n",
        "# Load csv and columns\n",
        "df = pd.read_csv('Housing.csv')\n",
        "\n",
        "Y = df['price']\n",
        "X = df['lotsize']\n",
        "\n",
        "X = X.reshape(len(X), 1)\n",
        "Y = Y.reshape(len(Y), 1)\n",
        "\n",
        "# split data into training/testing sets\n",
        "X_train = X[:-250]\n",
        "X_test = X[-250:]\n",
        "\n",
        "# Split the targets into training/testing sets\n",
        "Y_train = Y[:-250]\n",
        "Y_test = Y[-250:]\n",
        "\n",
        "# plot outputs\n",
        "plt.scatter(X_test, Y_test, color=\"black\")\n",
        "plt.title(\"Test Data\")\n",
        "plt.xlabel(\"Size\")\n",
        "plt.ylabel(\"Price\")\n",
        "plt.xticks(())\n",
        "plt.yticks(())\n",
        "\n",
        "plt.show()\n"
      ],
      "execution_count": 8,
      "outputs": [
        {
          "output_type": "stream",
          "text": [
            "/usr/local/lib/python3.6/dist-packages/ipykernel_launcher.py:15: FutureWarning: reshape is deprecated and will raise in a subsequent release. Please use .values.reshape(...) instead\n",
            "  from ipykernel import kernelapp as app\n",
            "/usr/local/lib/python3.6/dist-packages/ipykernel_launcher.py:16: FutureWarning: reshape is deprecated and will raise in a subsequent release. Please use .values.reshape(...) instead\n",
            "  app.launch_new_instance()\n"
          ],
          "name": "stderr"
        },
        {
          "output_type": "display_data",
          "data": {
            "image/png": "[encoded data removed]",
            "text/plain": [
              "<matplotlib.figure.Figure at 0x7f9f2ecb2438>"
            ]
          },
          "metadata": {
            "tags": []
          }
        }
      ]
    }
  ]
}